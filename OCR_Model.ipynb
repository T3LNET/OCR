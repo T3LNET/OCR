{
  "nbformat": 4,
  "nbformat_minor": 0,
  "metadata": {
    "colab": {
      "provenance": [],
      "gpuType": "T4",
      "authorship_tag": "ABX9TyMHGwhsz6kdSilzQWNHHhW1",
      "include_colab_link": true
    },
    "kernelspec": {
      "name": "python3",
      "display_name": "Python 3"
    },
    "language_info": {
      "name": "python"
    },
    "accelerator": "GPU"
  },
  "cells": [
    {
      "cell_type": "markdown",
      "metadata": {
        "id": "view-in-github",
        "colab_type": "text"
      },
      "source": [
        "<a href=\"https://colab.research.google.com/github/T3LNET/OCR/blob/main/OCR_Model.ipynb\" target=\"_parent\"><img src=\"https://colab.research.google.com/assets/colab-badge.svg\" alt=\"Open In Colab\"/></a>"
      ]
    },
    {
      "cell_type": "code",
      "source": [
        "!pip install tensorflow"
      ],
      "metadata": {
        "id": "ZWZScA-Z-7lV"
      },
      "execution_count": null,
      "outputs": []
    },
    {
      "cell_type": "code",
      "execution_count": 29,
      "metadata": {
        "id": "fRjlHOOy9z-G"
      },
      "outputs": [],
      "source": [
        "import numpy as np\n",
        "import tensorflow as tf\n",
        "from tensorflow.keras.models import Sequential\n",
        "from tensorflow.keras.layers import Conv2D, MaxPooling2D, Flatten, Dense\n",
        "from tensorflow.keras.preprocessing.image import ImageDataGenerator\n",
        "import cv2\n",
        "from google.colab.patches import cv2_imshow"
      ]
    },
    {
      "cell_type": "markdown",
      "source": [
        "## MNIST"
      ],
      "metadata": {
        "id": "6SquYXzDEUR-"
      }
    },
    {
      "cell_type": "code",
      "source": [
        "emnist = tf.keras.datasets.mnist\n",
        "(train_images, train_labels), (test_images, test_labels) = emnist.load_data()\n",
        "\n",
        "train_images, test_images = train_images / 255.0, test_images / 255.0\n",
        "\n",
        "train_images = train_images.reshape(train_images.shape[0], 28, 28, 1)\n",
        "test_images = test_images.reshape(test_images.shape[0], 28, 28, 1)\n",
        "\n",
        "train_labels = tf.keras.utils.to_categorical(train_labels, num_classes= X)  #  EMNIST : 47   MNIST: 10\n",
        "test_labels = tf.keras.utils.to_categorical(test_labels, num_classes= X)\n",
        "\n",
        "model = Sequential()\n",
        "\n",
        "model.add(Conv2D(32, kernel_size=(3, 3), activation='relu', input_shape=(28, 28, 1)))\n",
        "\n",
        "model.add(MaxPooling2D(pool_size=(2, 2)))\n",
        "\n",
        "model.add(Conv2D(64, (3, 3), activation='relu'))\n",
        "\n",
        "model.add(Flatten())\n",
        "\n",
        "model.add(Dense(128, activation='relu'))\n",
        "\n",
        "model.add(Dense( X , activation='softmax'))  # 47 classes in EMNIST dataset\n",
        "\n",
        "model.compile(optimizer='adam', loss='categorical_crossentropy', metrics=['accuracy'])"
      ],
      "metadata": {
        "id": "SQVY-fuT94y_"
      },
      "execution_count": 54,
      "outputs": []
    },
    {
      "cell_type": "code",
      "source": [
        "# Display the model summary\n",
        "model.summary()"
      ],
      "metadata": {
        "colab": {
          "base_uri": "https://localhost:8080/"
        },
        "id": "NYtzdOGm-ZuZ",
        "outputId": "9c704114-2b91-4963-8463-6529064e633f"
      },
      "execution_count": 5,
      "outputs": [
        {
          "output_type": "stream",
          "name": "stdout",
          "text": [
            "Model: \"sequential\"\n",
            "_________________________________________________________________\n",
            " Layer (type)                Output Shape              Param #   \n",
            "=================================================================\n",
            " conv2d (Conv2D)             (None, 26, 26, 32)        320       \n",
            "                                                                 \n",
            " max_pooling2d (MaxPooling2  (None, 13, 13, 32)        0         \n",
            " D)                                                              \n",
            "                                                                 \n",
            " conv2d_1 (Conv2D)           (None, 11, 11, 64)        18496     \n",
            "                                                                 \n",
            " flatten (Flatten)           (None, 7744)              0         \n",
            "                                                                 \n",
            " dense (Dense)               (None, 128)               991360    \n",
            "                                                                 \n",
            " dense_1 (Dense)             (None, 47)                6063      \n",
            "                                                                 \n",
            "=================================================================\n",
            "Total params: 1016239 (3.88 MB)\n",
            "Trainable params: 1016239 (3.88 MB)\n",
            "Non-trainable params: 0 (0.00 Byte)\n",
            "_________________________________________________________________\n"
          ]
        }
      ]
    },
    {
      "cell_type": "code",
      "source": [
        "model.fit(train_images, train_labels, epochs=5, batch_size=32, validation_data=(test_images, test_labels))"
      ],
      "metadata": {
        "colab": {
          "base_uri": "https://localhost:8080/"
        },
        "id": "dfVci5gx-o8f",
        "outputId": "4b1124c6-e275-436b-d506-2b6b661bdda1"
      },
      "execution_count": 6,
      "outputs": [
        {
          "output_type": "stream",
          "name": "stdout",
          "text": [
            "Epoch 1/5\n",
            "1875/1875 [==============================] - 19s 5ms/step - loss: 0.1322 - accuracy: 0.9593 - val_loss: 0.0475 - val_accuracy: 0.9838\n",
            "Epoch 2/5\n",
            "1875/1875 [==============================] - 8s 4ms/step - loss: 0.0423 - accuracy: 0.9865 - val_loss: 0.0437 - val_accuracy: 0.9865\n",
            "Epoch 3/5\n",
            "1875/1875 [==============================] - 8s 4ms/step - loss: 0.0265 - accuracy: 0.9917 - val_loss: 0.0350 - val_accuracy: 0.9882\n",
            "Epoch 4/5\n",
            "1875/1875 [==============================] - 9s 5ms/step - loss: 0.0172 - accuracy: 0.9945 - val_loss: 0.0412 - val_accuracy: 0.9886\n",
            "Epoch 5/5\n",
            "1875/1875 [==============================] - 8s 4ms/step - loss: 0.0143 - accuracy: 0.9953 - val_loss: 0.0377 - val_accuracy: 0.9885\n"
          ]
        },
        {
          "output_type": "execute_result",
          "data": {
            "text/plain": [
              "<keras.src.callbacks.History at 0x7b4d0a97d660>"
            ]
          },
          "metadata": {},
          "execution_count": 6
        }
      ]
    },
    {
      "cell_type": "code",
      "source": [
        "model.save(\"OCR_model\")"
      ],
      "metadata": {
        "id": "gJL9C5L2Ba31"
      },
      "execution_count": 10,
      "outputs": []
    },
    {
      "cell_type": "code",
      "source": [
        "model.fit(train_images, train_labels, epochs=10, batch_size=40, validation_data=(test_images, test_labels))"
      ],
      "metadata": {
        "colab": {
          "base_uri": "https://localhost:8080/"
        },
        "id": "98KyjZYyCCqw",
        "outputId": "cc7b7e1f-f21d-488d-b040-abb4cf3f3cec"
      },
      "execution_count": 9,
      "outputs": [
        {
          "output_type": "stream",
          "name": "stdout",
          "text": [
            "Epoch 1/10\n",
            "1500/1500 [==============================] - 8s 5ms/step - loss: 0.0072 - accuracy: 0.9974 - val_loss: 0.0318 - val_accuracy: 0.9915\n",
            "Epoch 2/10\n",
            "1500/1500 [==============================] - 7s 4ms/step - loss: 0.0061 - accuracy: 0.9981 - val_loss: 0.0378 - val_accuracy: 0.9901\n",
            "Epoch 3/10\n",
            "1500/1500 [==============================] - 8s 5ms/step - loss: 0.0063 - accuracy: 0.9978 - val_loss: 0.0429 - val_accuracy: 0.9893\n",
            "Epoch 4/10\n",
            "1500/1500 [==============================] - 7s 4ms/step - loss: 0.0043 - accuracy: 0.9985 - val_loss: 0.0381 - val_accuracy: 0.9899\n",
            "Epoch 5/10\n",
            "1500/1500 [==============================] - 7s 5ms/step - loss: 0.0041 - accuracy: 0.9986 - val_loss: 0.0403 - val_accuracy: 0.9912\n",
            "Epoch 6/10\n",
            "1500/1500 [==============================] - 7s 5ms/step - loss: 0.0045 - accuracy: 0.9987 - val_loss: 0.0383 - val_accuracy: 0.9900\n",
            "Epoch 7/10\n",
            "1500/1500 [==============================] - 7s 5ms/step - loss: 0.0036 - accuracy: 0.9988 - val_loss: 0.0502 - val_accuracy: 0.9901\n",
            "Epoch 8/10\n",
            "1500/1500 [==============================] - 8s 5ms/step - loss: 0.0024 - accuracy: 0.9993 - val_loss: 0.0457 - val_accuracy: 0.9913\n",
            "Epoch 9/10\n",
            "1500/1500 [==============================] - 6s 4ms/step - loss: 0.0034 - accuracy: 0.9987 - val_loss: 0.0538 - val_accuracy: 0.9905\n",
            "Epoch 10/10\n",
            "1500/1500 [==============================] - 7s 5ms/step - loss: 0.0027 - accuracy: 0.9991 - val_loss: 0.0495 - val_accuracy: 0.9920\n"
          ]
        },
        {
          "output_type": "execute_result",
          "data": {
            "text/plain": [
              "<keras.src.callbacks.History at 0x7b4ce17ca2f0>"
            ]
          },
          "metadata": {},
          "execution_count": 9
        }
      ]
    },
    {
      "cell_type": "markdown",
      "source": [
        "## EMNIST"
      ],
      "metadata": {
        "id": "v5uIOrtVEfL4"
      }
    },
    {
      "cell_type": "code",
      "source": [
        "!pip install emnist"
      ],
      "metadata": {
        "id": "Mx4J02aBCPmu"
      },
      "execution_count": null,
      "outputs": []
    },
    {
      "cell_type": "markdown",
      "source": [
        "\n",
        "\n",
        "1.   List item\n",
        "2.   List item\n",
        "\n"
      ],
      "metadata": {
        "id": "UI9N6xNGEQrZ"
      }
    },
    {
      "cell_type": "code",
      "source": [
        "from emnist import extract_training_samples"
      ],
      "metadata": {
        "id": "RSKMAwamDJHf"
      },
      "execution_count": 13,
      "outputs": []
    },
    {
      "cell_type": "code",
      "source": [
        "images, labels = extract_training_samples('digits')"
      ],
      "metadata": {
        "colab": {
          "base_uri": "https://localhost:8080/"
        },
        "id": "rRc4Cm2kDUd8",
        "outputId": "87f6f751-34c9-4c9d-b0a5-41b2862b5803"
      },
      "execution_count": 14,
      "outputs": [
        {
          "output_type": "stream",
          "name": "stderr",
          "text": [
            "Downloading emnist.zip: 536MB [00:11, 48.4MB/s]\n"
          ]
        }
      ]
    },
    {
      "cell_type": "code",
      "source": [
        "images.shape"
      ],
      "metadata": {
        "colab": {
          "base_uri": "https://localhost:8080/"
        },
        "id": "FQ8Ohp41DWzf",
        "outputId": "38e8f4df-f5c4-4a81-a0dd-ca009375bd4f"
      },
      "execution_count": 41,
      "outputs": [
        {
          "output_type": "execute_result",
          "data": {
            "text/plain": [
              "(124800, 28, 28, 1)"
            ]
          },
          "metadata": {},
          "execution_count": 41
        }
      ]
    },
    {
      "cell_type": "code",
      "source": [
        "images = images.reshape(images.shape[0], 28, 28, 1)"
      ],
      "metadata": {
        "id": "2baDm39jDcuX"
      },
      "execution_count": 34,
      "outputs": []
    },
    {
      "cell_type": "code",
      "source": [
        "split = int(0.8 * len(images))\n",
        "train_images, test_images = images[:split], images[split:]\n",
        "train_labels, test_labels = labels[:split], labels[split:]"
      ],
      "metadata": {
        "id": "4TCk_A3-FAFq"
      },
      "execution_count": 48,
      "outputs": []
    },
    {
      "cell_type": "code",
      "source": [
        "model.fit(train_images, train_labels, epochs=15, batch_size=32, validation_data=(test_images, test_labels))"
      ],
      "metadata": {
        "colab": {
          "base_uri": "https://localhost:8080/"
        },
        "id": "wwzdRZXREjkj",
        "outputId": "56c7111e-8b7f-447c-f281-b7a643a801dd"
      },
      "execution_count": 22,
      "outputs": [
        {
          "output_type": "stream",
          "name": "stdout",
          "text": [
            "Epoch 1/15\n",
            "1875/1875 [==============================] - 11s 5ms/step - loss: 0.1204 - accuracy: 0.9637 - val_loss: 0.0418 - val_accuracy: 0.9863\n",
            "Epoch 2/15\n",
            "1875/1875 [==============================] - 7s 4ms/step - loss: 0.0398 - accuracy: 0.9880 - val_loss: 0.0302 - val_accuracy: 0.9907\n",
            "Epoch 3/15\n",
            "1875/1875 [==============================] - 9s 5ms/step - loss: 0.0257 - accuracy: 0.9918 - val_loss: 0.0295 - val_accuracy: 0.9908\n",
            "Epoch 4/15\n",
            "1875/1875 [==============================] - 8s 4ms/step - loss: 0.0182 - accuracy: 0.9945 - val_loss: 0.0436 - val_accuracy: 0.9881\n",
            "Epoch 5/15\n",
            "1875/1875 [==============================] - 8s 4ms/step - loss: 0.0124 - accuracy: 0.9962 - val_loss: 0.0338 - val_accuracy: 0.9904\n",
            "Epoch 6/15\n",
            "1875/1875 [==============================] - 8s 4ms/step - loss: 0.0104 - accuracy: 0.9963 - val_loss: 0.0383 - val_accuracy: 0.9901\n",
            "Epoch 7/15\n",
            "1875/1875 [==============================] - 8s 4ms/step - loss: 0.0084 - accuracy: 0.9972 - val_loss: 0.0429 - val_accuracy: 0.9892\n",
            "Epoch 8/15\n",
            "1875/1875 [==============================] - 8s 4ms/step - loss: 0.0055 - accuracy: 0.9982 - val_loss: 0.0453 - val_accuracy: 0.9894\n",
            "Epoch 9/15\n",
            "1875/1875 [==============================] - 9s 5ms/step - loss: 0.0057 - accuracy: 0.9979 - val_loss: 0.0475 - val_accuracy: 0.9891\n",
            "Epoch 10/15\n",
            "1875/1875 [==============================] - 7s 4ms/step - loss: 0.0057 - accuracy: 0.9980 - val_loss: 0.0496 - val_accuracy: 0.9909\n",
            "Epoch 11/15\n",
            "1875/1875 [==============================] - 8s 4ms/step - loss: 0.0047 - accuracy: 0.9986 - val_loss: 0.0463 - val_accuracy: 0.9903\n",
            "Epoch 12/15\n",
            "1875/1875 [==============================] - 8s 5ms/step - loss: 0.0047 - accuracy: 0.9987 - val_loss: 0.0625 - val_accuracy: 0.9863\n",
            "Epoch 13/15\n",
            "1875/1875 [==============================] - 7s 4ms/step - loss: 0.0032 - accuracy: 0.9991 - val_loss: 0.0529 - val_accuracy: 0.9894\n",
            "Epoch 14/15\n",
            "1875/1875 [==============================] - 9s 5ms/step - loss: 0.0045 - accuracy: 0.9988 - val_loss: 0.0648 - val_accuracy: 0.9896\n",
            "Epoch 15/15\n",
            "1875/1875 [==============================] - 8s 4ms/step - loss: 0.0039 - accuracy: 0.9988 - val_loss: 0.0583 - val_accuracy: 0.9883\n"
          ]
        },
        {
          "output_type": "execute_result",
          "data": {
            "text/plain": [
              "<keras.src.callbacks.History at 0x7b4d09440e80>"
            ]
          },
          "metadata": {},
          "execution_count": 22
        }
      ]
    },
    {
      "cell_type": "code",
      "source": [
        "images, labels = extract_training_samples('letters')"
      ],
      "metadata": {
        "id": "_eo-N2sGFAt7"
      },
      "execution_count": 39,
      "outputs": []
    },
    {
      "cell_type": "code",
      "source": [
        "images = images.reshape(images.shape[0], 28, 28, 1)"
      ],
      "metadata": {
        "id": "OpaEHefeHmdx"
      },
      "execution_count": 40,
      "outputs": []
    },
    {
      "cell_type": "code",
      "source": [
        "split = int(0.8 * len(images))\n",
        "train_images, test_images = images[:split], images[split:]\n",
        "train_labels, test_labels = labels[:split], labels[split:]"
      ],
      "metadata": {
        "id": "Ngh4lZaIHrU1"
      },
      "execution_count": 50,
      "outputs": []
    },
    {
      "cell_type": "code",
      "source": [
        "model.fit(train_images, train_labels, epochs=15, batch_size=32, validation_data=(test_images, test_labels))"
      ],
      "metadata": {
        "colab": {
          "base_uri": "https://localhost:8080/"
        },
        "id": "GBbUnHLMHYnq",
        "outputId": "3809b84f-928b-450d-c95d-2afff8f94d48"
      },
      "execution_count": 55,
      "outputs": [
        {
          "output_type": "stream",
          "name": "stdout",
          "text": [
            "Epoch 1/15\n",
            "1875/1875 [==============================] - 10s 4ms/step - loss: 0.1223 - accuracy: 0.9627 - val_loss: 0.0419 - val_accuracy: 0.9863\n",
            "Epoch 2/15\n",
            "1875/1875 [==============================] - 9s 5ms/step - loss: 0.0384 - accuracy: 0.9882 - val_loss: 0.0397 - val_accuracy: 0.9857\n",
            "Epoch 3/15\n",
            "1875/1875 [==============================] - 8s 4ms/step - loss: 0.0251 - accuracy: 0.9920 - val_loss: 0.0278 - val_accuracy: 0.9900\n",
            "Epoch 4/15\n",
            "1875/1875 [==============================] - 8s 4ms/step - loss: 0.0171 - accuracy: 0.9944 - val_loss: 0.0315 - val_accuracy: 0.9894\n",
            "Epoch 5/15\n",
            "1875/1875 [==============================] - 8s 4ms/step - loss: 0.0125 - accuracy: 0.9961 - val_loss: 0.0304 - val_accuracy: 0.9908\n",
            "Epoch 6/15\n",
            "1875/1875 [==============================] - 8s 4ms/step - loss: 0.0089 - accuracy: 0.9971 - val_loss: 0.0617 - val_accuracy: 0.9848\n",
            "Epoch 7/15\n",
            "1875/1875 [==============================] - 8s 4ms/step - loss: 0.0075 - accuracy: 0.9976 - val_loss: 0.0476 - val_accuracy: 0.9887\n",
            "Epoch 8/15\n",
            "1875/1875 [==============================] - 8s 4ms/step - loss: 0.0063 - accuracy: 0.9980 - val_loss: 0.0394 - val_accuracy: 0.9921\n",
            "Epoch 9/15\n",
            "1875/1875 [==============================] - 7s 4ms/step - loss: 0.0059 - accuracy: 0.9981 - val_loss: 0.0408 - val_accuracy: 0.9902\n",
            "Epoch 10/15\n",
            "1875/1875 [==============================] - 9s 5ms/step - loss: 0.0044 - accuracy: 0.9987 - val_loss: 0.0437 - val_accuracy: 0.9902\n",
            "Epoch 11/15\n",
            "1875/1875 [==============================] - 9s 5ms/step - loss: 0.0039 - accuracy: 0.9987 - val_loss: 0.0376 - val_accuracy: 0.9910\n",
            "Epoch 12/15\n",
            "1875/1875 [==============================] - 8s 4ms/step - loss: 0.0035 - accuracy: 0.9989 - val_loss: 0.0582 - val_accuracy: 0.9897\n",
            "Epoch 13/15\n",
            "1875/1875 [==============================] - 8s 4ms/step - loss: 0.0045 - accuracy: 0.9985 - val_loss: 0.0477 - val_accuracy: 0.9902\n",
            "Epoch 14/15\n",
            "1875/1875 [==============================] - 9s 5ms/step - loss: 0.0030 - accuracy: 0.9991 - val_loss: 0.0505 - val_accuracy: 0.9919\n",
            "Epoch 15/15\n",
            "1875/1875 [==============================] - 9s 5ms/step - loss: 0.0042 - accuracy: 0.9988 - val_loss: 0.0611 - val_accuracy: 0.9902\n"
          ]
        },
        {
          "output_type": "execute_result",
          "data": {
            "text/plain": [
              "<keras.src.callbacks.History at 0x7b4cec88eb00>"
            ]
          },
          "metadata": {},
          "execution_count": 55
        }
      ]
    },
    {
      "cell_type": "code",
      "source": [],
      "metadata": {
        "id": "6N6JHW6JJhXl"
      },
      "execution_count": null,
      "outputs": []
    }
  ]
}