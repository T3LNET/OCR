{
  "nbformat": 4,
  "nbformat_minor": 0,
  "metadata": {
    "colab": {
      "provenance": [],
      "collapsed_sections": [
        "ihmxUBTHzthR",
        "dJ3RtTq3BpI5",
        "CgzBN6yeC-V7"
      ],
      "authorship_tag": "ABX9TyPAM1zB8j3kHF4q4D+jfv76",
      "include_colab_link": true
    },
    "kernelspec": {
      "name": "python3",
      "display_name": "Python 3"
    },
    "language_info": {
      "name": "python"
    }
  },
  "cells": [
    {
      "cell_type": "markdown",
      "metadata": {
        "id": "view-in-github",
        "colab_type": "text"
      },
      "source": [
        "<a href=\"https://colab.research.google.com/github/T3LNET/OCR/blob/main/Pytesseract.ipynb\" target=\"_parent\"><img src=\"https://colab.research.google.com/assets/colab-badge.svg\" alt=\"Open In Colab\"/></a>"
      ]
    },
    {
      "cell_type": "markdown",
      "source": [
        "## Tesseract installation"
      ],
      "metadata": {
        "id": "ihmxUBTHzthR"
      }
    },
    {
      "cell_type": "code",
      "source": [
        "import cv2\n",
        "from google.colab.patches import cv2_imshow"
      ],
      "metadata": {
        "id": "E821D2ZC_J8k"
      },
      "execution_count": null,
      "outputs": []
    },
    {
      "cell_type": "code",
      "execution_count": null,
      "metadata": {
        "id": "ZCEWLzNvzqzK"
      },
      "outputs": [],
      "source": [
        "!sudo apt install tesseract-ocr"
      ]
    },
    {
      "cell_type": "code",
      "source": [
        "!sudo apt install libtesseract-dev"
      ],
      "metadata": {
        "id": "mR_NQUpN0onO"
      },
      "execution_count": null,
      "outputs": []
    },
    {
      "cell_type": "code",
      "source": [
        "!wget https://github.com/AlexanderP/tesseract-appimage/releases/download/v5.3.0/tesseract-5.3.0-x86_64.AppImage"
      ],
      "metadata": {
        "id": "XAEiqUel2o2R"
      },
      "execution_count": null,
      "outputs": []
    },
    {
      "cell_type": "code",
      "source": [
        "!chmod a+x tesseract*.AppImage"
      ],
      "metadata": {
        "id": "5o3Uu8ZC3K8q"
      },
      "execution_count": null,
      "outputs": []
    },
    {
      "cell_type": "code",
      "source": [
        "image=cv2.imread(\"/content/7_python-ocr.jpg\")"
      ],
      "metadata": {
        "id": "c_8t6SDV62GX"
      },
      "execution_count": null,
      "outputs": []
    },
    {
      "cell_type": "code",
      "source": [
        "cv2_imshow(image)"
      ],
      "metadata": {
        "colab": {
          "base_uri": "https://localhost:8080/",
          "height": 375
        },
        "id": "QnNDkXq6_jRx",
        "outputId": "6c9fa4ad-c5c8-423c-b69f-0fea1e00d3cc"
      },
      "execution_count": null,
      "outputs": [
        {
          "output_type": "display_data",
          "data": {
            "text/plain": [
              "<PIL.Image.Image image mode=RGB size=810x358>"
            ],
            "image/png": "[encoded data removed]"
          },
          "metadata": {}
        }
      ]
    },
    {
      "cell_type": "code",
      "source": [
        "!./tesseract*.AppImage -l eng 7_python-ocr.jpg page.txt"
      ],
      "metadata": {
        "colab": {
          "base_uri": "https://localhost:8080/"
        },
        "id": "kC6z5Uah4C0j",
        "outputId": "05c1179a-2ab4-4141-fa8c-5bb7a37d1ed7"
      },
      "execution_count": null,
      "outputs": [
        {
          "output_type": "stream",
          "name": "stdout",
          "text": [
            "Estimating resolution as 386\n"
          ]
        }
      ]
    },
    {
      "cell_type": "code",
      "source": [
        "with open(\"/content/page.txt.txt\", \"r\") as file:\n",
        "  for line in file:\n",
        "    print(line)"
      ],
      "metadata": {
        "colab": {
          "base_uri": "https://localhost:8080/"
        },
        "id": "s2VJOAI2AjJ2",
        "outputId": "dd5ab41d-dccf-46d5-e7e6-dad20de85965"
      },
      "execution_count": null,
      "outputs": [
        {
          "output_type": "stream",
          "name": "stdout",
          "text": [
            "Tesseract sample\n",
            "\n"
          ]
        }
      ]
    },
    {
      "cell_type": "markdown",
      "source": [
        "## Tesseract AppImage\n",
        "### Included traineddata files\n",
        "deu - German\n",
        "\n",
        "eng - English\n",
        "\n",
        "fin - Finnish\n",
        "\n",
        "fra - French\n",
        "\n",
        "osd - Script and orientation\n",
        "\n",
        "por - Portuguese\n",
        "\n",
        "rus - Russian\n",
        "\n",
        "spa - Spanish\n"
      ],
      "metadata": {
        "id": "dJ3RtTq3BpI5"
      }
    },
    {
      "cell_type": "code",
      "source": [
        "!./tesseract*.AppImage -l eng download.jpg page1.txt"
      ],
      "metadata": {
        "colab": {
          "base_uri": "https://localhost:8080/"
        },
        "id": "2VQ1a4B_4mk0",
        "outputId": "e565dda0-85a7-40d8-9ace-7a8b56e2365b"
      },
      "execution_count": null,
      "outputs": [
        {
          "output_type": "stream",
          "name": "stdout",
          "text": [
            "Estimating resolution as 233\n",
            "Empty page!!\n",
            "Estimating resolution as 233\n",
            "Empty page!!\n"
          ]
        }
      ]
    },
    {
      "cell_type": "code",
      "source": [
        "!wget https://github.com/AlexanderP/tesseract-appimage/archive/refs/tags/v5.3.0.zip"
      ],
      "metadata": {
        "id": "x0wD6byp6JJQ"
      },
      "execution_count": null,
      "outputs": []
    },
    {
      "cell_type": "code",
      "source": [
        "!unzip v5.3.0.zip"
      ],
      "metadata": {
        "id": "h2S-Ui-m8jD2"
      },
      "execution_count": null,
      "outputs": []
    },
    {
      "cell_type": "code",
      "source": [
        "!apt-get update && apt-get dist-upgrade -y"
      ],
      "metadata": {
        "id": "wQexYVYO8rZs"
      },
      "execution_count": null,
      "outputs": []
    },
    {
      "cell_type": "code",
      "source": [
        "!apt-get update && apt-get dist-upgrade -y"
      ],
      "metadata": {
        "id": "cczT5_9U9w-8"
      },
      "execution_count": null,
      "outputs": []
    },
    {
      "cell_type": "code",
      "source": [
        "!apt-get install -y libfuse2 fuse"
      ],
      "metadata": {
        "id": "oUHWv6rw9cND"
      },
      "execution_count": null,
      "outputs": []
    },
    {
      "cell_type": "code",
      "source": [
        "!mkdir /build"
      ],
      "metadata": {
        "id": "RjOdh5u694Wp"
      },
      "execution_count": null,
      "outputs": []
    },
    {
      "cell_type": "markdown",
      "source": [
        "## Image pre-processing"
      ],
      "metadata": {
        "id": "CgzBN6yeC-V7"
      }
    },
    {
      "cell_type": "markdown",
      "source": [
        "### https://github.com/T3LNET/OCR/blob/main/Pre_Processing_OCR.ipynb"
      ],
      "metadata": {
        "id": "gtk_RA-0F7uE"
      }
    },
    {
      "cell_type": "markdown",
      "source": [
        "### https://nextgeninvent.com/blogs/7-steps-of-image-pre-processing-to-improve-ocr-using-python-2/"
      ],
      "metadata": {
        "id": "9rwI9AO2G3b1"
      }
    },
    {
      "cell_type": "markdown",
      "source": [
        "### https://www.analyticsvidhya.com/blog/2023/03/getting-started-with-image-processing-using-opencv/"
      ],
      "metadata": {
        "id": "jAKhhYCaF3jO"
      }
    },
    {
      "cell_type": "markdown",
      "source": [
        "## Text Tracking"
      ],
      "metadata": {
        "id": "as_feeNnUKPQ"
      }
    },
    {
      "cell_type": "markdown",
      "source": [
        "https://github.com/T3LNET/OCR/blob/main/Tesseract_T1.ipynb\n",
        "\n",
        "https://github.com/T3LNET/OCR/blob/main/Tesseract_T2.ipynb"
      ],
      "metadata": {
        "id": "O35TKygWUa9k"
      }
    },
    {
      "cell_type": "markdown",
      "source": [
        "## OCR_model"
      ],
      "metadata": {
        "id": "UqVeKAyAKQ_0"
      }
    },
    {
      "cell_type": "markdown",
      "source": [
        "https://github.com/T3LNET/OCR/blob/main/OCR_Model.ipynb"
      ],
      "metadata": {
        "id": "92G-Fyx9UAHr"
      }
    }
  ]
}